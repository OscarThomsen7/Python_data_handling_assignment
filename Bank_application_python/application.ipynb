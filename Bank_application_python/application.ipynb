{
 "cells": [
  {
   "cell_type": "code",
   "execution_count": 97,
   "id": "c6a9f2bd",
   "metadata": {},
   "outputs": [],
   "source": [
    "from BankClass import Bank # importera bank classen"
   ]
  },
  {
   "cell_type": "code",
   "execution_count": 98,
   "id": "6eca9b4f",
   "metadata": {},
   "outputs": [],
   "source": [
    "bank = Bank() #skapa bank object"
   ]
  },
  {
   "cell_type": "code",
   "execution_count": 99,
   "id": "52ca3faf",
   "metadata": {},
   "outputs": [],
   "source": [
    "bank.json_file_read() # läs in information från text filen"
   ]
  },
  {
   "cell_type": "code",
   "execution_count": 100,
   "id": "a730494e",
   "metadata": {},
   "outputs": [
    {
     "name": "stdout",
     "output_type": "stream",
     "text": [
      "List of bank customers \n",
      "\n",
      "customer 1: Oscar\n",
      "customer 2: Emil\n"
     ]
    }
   ],
   "source": [
    "bank.get_customers() # hämta alla kunder"
   ]
  },
  {
   "cell_type": "code",
   "execution_count": 101,
   "id": "465f8e4d",
   "metadata": {},
   "outputs": [],
   "source": [
    "if len(bank.customerList) == 0: #lade till if statement för att lägga till kunder om det inte finns några att läsa in för att göra testet lättare\n",
    "    bank.add_customer(\"Oscar\", \"NyttLösenord\") #lägg till kund\n",
    "    print()\n",
    "    bank.add_customer(\"Emil\", \"Nytt\")"
   ]
  },
  {
   "cell_type": "code",
   "execution_count": 102,
   "id": "ff34440d",
   "metadata": {},
   "outputs": [
    {
     "name": "stdout",
     "output_type": "stream",
     "text": [
      "You logged in to Oscar's account\n"
     ]
    }
   ],
   "source": [
    "bank.log_in(\"Oscar\", \"NyttLösenord\") #logga in"
   ]
  },
  {
   "cell_type": "code",
   "execution_count": 103,
   "id": "c555617f",
   "metadata": {},
   "outputs": [
    {
     "name": "stdout",
     "output_type": "stream",
     "text": [
      "You just added a new account with account number: 28 \n",
      "current balance: 0$ \n"
     ]
    }
   ],
   "source": [
    "bank.add_account_to_customer() #lägg till konto, ett random kontonummer genereras"
   ]
  },
  {
   "cell_type": "code",
   "execution_count": 104,
   "id": "0b7b2894",
   "metadata": {},
   "outputs": [
    {
     "name": "stdout",
     "output_type": "stream",
     "text": [
      "Wrong account number!\n"
     ]
    }
   ],
   "source": [
    "bank.deposit(52, 6546) #sätt in pengar"
   ]
  },
  {
   "cell_type": "code",
   "execution_count": 105,
   "id": "17c1b22c",
   "metadata": {},
   "outputs": [
    {
     "name": "stdout",
     "output_type": "stream",
     "text": [
      "Wrong account number!\n"
     ]
    }
   ],
   "source": [
    "bank.withdraw(58, 89) #ta ut pengar"
   ]
  },
  {
   "cell_type": "code",
   "execution_count": 106,
   "id": "deee76e3",
   "metadata": {
    "scrolled": true
   },
   "outputs": [
    {
     "name": "stdout",
     "output_type": "stream",
     "text": [
      "Account '31' does not exist. Can not delete\n"
     ]
    }
   ],
   "source": [
    "bank.remove_account(31) #ta bort konto"
   ]
  },
  {
   "cell_type": "code",
   "execution_count": 107,
   "id": "20afa536",
   "metadata": {},
   "outputs": [
    {
     "name": "stdout",
     "output_type": "stream",
     "text": [
      "Added new customer to bank \n",
      "Username: Hanna \n",
      "Password: Lösenord\n"
     ]
    }
   ],
   "source": [
    "bank.add_customer(\"Hanna\", \"Lösenord\") # lägger till kund för att kunna ta bort kunden i nästa cell"
   ]
  },
  {
   "cell_type": "code",
   "execution_count": 108,
   "id": "57536695",
   "metadata": {},
   "outputs": [
    {
     "name": "stdout",
     "output_type": "stream",
     "text": [
      "removed customer: Hanna\n"
     ]
    }
   ],
   "source": [
    "bank.remove_customer(\"Hanna\") #ta bort kund"
   ]
  },
  {
   "cell_type": "code",
   "execution_count": 109,
   "id": "e3510c1e",
   "metadata": {},
   "outputs": [
    {
     "name": "stdout",
     "output_type": "stream",
     "text": [
      "Account 28 has 0$\n"
     ]
    }
   ],
   "source": [
    "bank.get_all_accounts_and_balances() #hämta konton från inloggad kund"
   ]
  },
  {
   "cell_type": "code",
   "execution_count": 110,
   "id": "a8596a9a",
   "metadata": {},
   "outputs": [
    {
     "data": {
      "text/plain": [
       "True"
      ]
     },
     "execution_count": 110,
     "metadata": {},
     "output_type": "execute_result"
    }
   ],
   "source": [
    "bank.change_password(\"Oscar\", \"NyttLösenord\") # byt lösenord"
   ]
  },
  {
   "cell_type": "code",
   "execution_count": 111,
   "id": "72438ea0",
   "metadata": {},
   "outputs": [
    {
     "name": "stdout",
     "output_type": "stream",
     "text": [
      "Customer username: Oscar \n",
      "Password: NyttLösenord\n",
      "Account 28 has 0$\n"
     ]
    }
   ],
   "source": [
    "bank.get_customer() # hämta info om inloggade kunden"
   ]
  },
  {
   "cell_type": "code",
   "execution_count": 112,
   "id": "8c8378e4",
   "metadata": {},
   "outputs": [
    {
     "name": "stdout",
     "output_type": "stream",
     "text": [
      "Logged out from Oscar's account\n"
     ]
    }
   ],
   "source": [
    "bank.log_out() # logga ut"
   ]
  },
  {
   "cell_type": "code",
   "execution_count": 113,
   "id": "d5ca7ec8",
   "metadata": {},
   "outputs": [],
   "source": [
    "bank.json_file_write() #skriv kund info i json format till en txt fil"
   ]
  },
  {
   "cell_type": "code",
   "execution_count": null,
   "id": "896b3ca5",
   "metadata": {},
   "outputs": [],
   "source": []
  }
 ],
 "metadata": {
  "kernelspec": {
   "display_name": "Python 3 (ipykernel)",
   "language": "python",
   "name": "python3"
  },
  "language_info": {
   "codemirror_mode": {
    "name": "ipython",
    "version": 3
   },
   "file_extension": ".py",
   "mimetype": "text/x-python",
   "name": "python",
   "nbconvert_exporter": "python",
   "pygments_lexer": "ipython3",
   "version": "3.9.13"
  }
 },
 "nbformat": 4,
 "nbformat_minor": 5
}
